{
 "cells": [
  {
   "cell_type": "code",
   "execution_count": 1,
   "metadata": {},
   "outputs": [
    {
     "name": "stderr",
     "output_type": "stream",
     "text": [
      "Using TensorFlow backend.\n"
     ]
    }
   ],
   "source": [
    "import pandas as pd\n",
    "import numpy as np\n",
    "from sklearn.model_selection import train_test_split\n",
    "from sklearn.preprocessing import OneHotEncoder\n",
    "from konlpy.tag import Okt, Komoran, Kkma, Hannanum, Twitter, Mecab\n",
    "from keras.preprocessing import text, sequence\n",
    "from keras.utils import to_categorical\n",
    "from keras.utils import multi_gpu_model\n",
    "import keras\n",
    "import os\n",
    "import h5py\n",
    "import matplotlib.pyplot as plt\n",
    "import sentencepiece as spm\n",
    "import seaborn as sns\n",
    "import re\n",
    "import gc\n",
    "import warnings\n",
    "warnings.filterwarnings('ignore')"
   ]
  },
  {
   "cell_type": "code",
   "execution_count": 120,
   "metadata": {},
   "outputs": [],
   "source": [
    "# preprocessed_DF : preprocessed text data in pandas dataframe type"
   ]
  },
  {
   "cell_type": "code",
   "execution_count": 151,
   "metadata": {},
   "outputs": [],
   "source": [
    "with open('sentencepiece_trsfm.txt', 'w', encoding='utf-8') as f:\n",
    "  for i in preprocessed_DF:\n",
    "    f.write(i.strip() + '\\n')"
   ]
  },
  {
   "cell_type": "code",
   "execution_count": 152,
   "metadata": {},
   "outputs": [
    {
     "data": {
      "text/plain": [
       "'--input=sentencepiece_trsfm.txt --pad_id=0 --vocab_size=40000 --model_prefix=sentencepiece --bos_id=1 --eos_id=2 --unk_id=3 --character_coverage=0.9995 --model_type=bpe'"
      ]
     },
     "execution_count": 152,
     "metadata": {},
     "output_type": "execute_result"
    }
   ],
   "source": [
    "## SentencePiece Trainer\n",
    "\n",
    "templates= \"--input={} \\\n",
    "--pad_id={} \\\n",
    "--vocab_size={} \\\n",
    "--model_prefix={} \\\n",
    "--bos_id={} \\\n",
    "--eos_id={} \\\n",
    "--unk_id={} \\\n",
    "--character_coverage={} \\\n",
    "--model_type={}\"\n",
    "\n",
    "\n",
    "train_input_file = \"sentencepiece_trsfm.txt\"\n",
    "pad_id=0                          \n",
    "vocab_size = \"40000\"                \n",
    "prefix = \"sentencepiece\"           \n",
    "bos_id=1                          \n",
    "eos_id=2                          \n",
    "unk_id=3                          \n",
    "character_coverage = \"0.9995\"           \n",
    "model_type =\"bpe\"             \n",
    "\n",
    "\n",
    "cmd = templates.format(train_input_file,\n",
    "                pad_id,\n",
    "                vocab_size,\n",
    "                prefix,\n",
    "                bos_id,\n",
    "                eos_id,\n",
    "                unk_id,\n",
    "                character_coverage,\n",
    "                model_type)\n",
    "\n",
    "cmd   "
   ]
  },
  {
   "cell_type": "code",
   "execution_count": 153,
   "metadata": {},
   "outputs": [
    {
     "data": {
      "text/plain": [
       "True"
      ]
     },
     "execution_count": 153,
     "metadata": {},
     "output_type": "execute_result"
    }
   ],
   "source": [
    "# Sentence Piece Trainiang Process\n",
    "spm.SentencePieceTrainer_Train(cmd)"
   ]
  },
  {
   "cell_type": "code",
   "execution_count": 33,
   "metadata": {},
   "outputs": [
    {
     "data": {
      "text/plain": [
       "True"
      ]
     },
     "execution_count": 33,
     "metadata": {},
     "output_type": "execute_result"
    }
   ],
   "source": [
    "s = spm.SentencePieceProcessor()\n",
    "s.Load('sentencepiece_trsfm.model')"
   ]
  },
  {
   "cell_type": "code",
   "execution_count": 34,
   "metadata": {},
   "outputs": [
    {
     "data": {
      "text/plain": [
       "[285, 3, 26971]"
      ]
     },
     "execution_count": 34,
     "metadata": {},
     "output_type": "execute_result"
    }
   ],
   "source": [
    "s.encode_as_ids('안녕하세요')"
   ]
  },
  {
   "cell_type": "code",
   "execution_count": 35,
   "metadata": {},
   "outputs": [
    {
     "data": {
      "text/plain": [
       "32000"
      ]
     },
     "execution_count": 35,
     "metadata": {},
     "output_type": "execute_result"
    }
   ],
   "source": [
    "s.get_piece_size()"
   ]
  },
  {
   "cell_type": "code",
   "execution_count": 36,
   "metadata": {},
   "outputs": [],
   "source": [
    "def spm_encoding(x):\n",
    "    return s.encode_as_ids(x)"
   ]
  },
  {
   "cell_type": "code",
   "execution_count": null,
   "metadata": {},
   "outputs": [],
   "source": []
  }
 ],
 "metadata": {
  "kernelspec": {
   "display_name": "Python 3",
   "language": "python",
   "name": "python3"
  },
  "language_info": {
   "codemirror_mode": {
    "name": "ipython",
    "version": 3
   },
   "file_extension": ".py",
   "mimetype": "text/x-python",
   "name": "python",
   "nbconvert_exporter": "python",
   "pygments_lexer": "ipython3",
   "version": "3.8.3"
  }
 },
 "nbformat": 4,
 "nbformat_minor": 4
}
