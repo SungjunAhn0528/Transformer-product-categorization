{
 "cells": [
  {
   "cell_type": "markdown",
   "metadata": {},
   "source": [
    "## `필요 라이브러리 호출`"
   ]
  },
  {
   "cell_type": "code",
   "execution_count": 1,
   "metadata": {},
   "outputs": [],
   "source": [
    "import pandas as pd\n",
    "import numpy as np"
   ]
  },
  {
   "cell_type": "code",
   "execution_count": 2,
   "metadata": {},
   "outputs": [
    {
     "name": "stderr",
     "output_type": "stream",
     "text": [
      "Using TensorFlow backend.\n"
     ]
    }
   ],
   "source": [
    "from sklearn.preprocessing import OneHotEncoder\n",
    "from keras.preprocessing import text, sequence\n",
    "from keras.utils import to_categorical\n",
    "from keras.utils import multi_gpu_model\n",
    "import keras\n",
    "import os\n",
    "import h5py\n",
    "import matplotlib.pyplot as plt\n",
    "import sentencepiece as spm\n",
    "import seaborn as sns\n",
    "import re\n",
    "import gc\n",
    "import warnings\n",
    "warnings.filterwarnings('ignore')\n",
    "\n",
    "\n",
    "import textClassfierModel"
   ]
  },
  {
   "cell_type": "markdown",
   "metadata": {},
   "source": [
    "## `데이터 호출`"
   ]
  },
  {
   "cell_type": "code",
   "execution_count": 3,
   "metadata": {},
   "outputs": [],
   "source": [
    "data=pd.read_excel(\"ExcelFile_2020-06-02T10_07_57.xlsx\",error_bad_lines=False)"
   ]
  },
  {
   "cell_type": "markdown",
   "metadata": {},
   "source": [
    "## `데이터 전처리`"
   ]
  },
  {
   "cell_type": "code",
   "execution_count": 4,
   "metadata": {},
   "outputs": [],
   "source": [
    "import textPreprocessor"
   ]
  },
  {
   "cell_type": "code",
   "execution_count": 5,
   "metadata": {},
   "outputs": [],
   "source": [
    "prepro=textPreprocessor.Preprocessor()\n",
    "\n",
    "data.PNM = data.PNM.apply(prepro.remove_punct)\n",
    "data.PNM=data.PNM.apply(str.lower)\n",
    "data.PNM=data.PNM.apply(prepro.sep_words)\n",
    "data.PNM=data.PNM.apply(prepro.remove_multispace)\n",
    "\n",
    "tokens=data.PNM.apply(prepro.spm_encoding)"
   ]
  },
  {
   "cell_type": "code",
   "execution_count": 11,
   "metadata": {},
   "outputs": [],
   "source": [
    "data[\"tokens\"]=tokens\n",
    "\n",
    "parts=data.PNM.apply(prepro.spm_token)\n",
    "\n",
    "padded_tokens=prepro.padding(data,\"tokens\")"
   ]
  },
  {
   "cell_type": "code",
   "execution_count": 14,
   "metadata": {},
   "outputs": [],
   "source": [
    "nn=textClassfierModel.NeuralNetwork()"
   ]
  },
  {
   "cell_type": "code",
   "execution_count": 15,
   "metadata": {},
   "outputs": [
    {
     "name": "stdout",
     "output_type": "stream",
     "text": [
      "WARNING:tensorflow:From /home/aithe/Documents/LEE/enliple_test/textClassfierModel.py:143: The name tf.keras.initializers.he_uniform is deprecated. Please use tf.compat.v1.keras.initializers.he_uniform instead.\n",
      "\n",
      "WARNING:tensorflow:From /home/aithe/anaconda3/envs/tf/lib/python3.7/site-packages/tensorflow_core/python/keras/initializers.py:119: calling RandomUniform.__init__ (from tensorflow.python.ops.init_ops) with dtype is deprecated and will be removed in a future version.\n",
      "Instructions for updating:\n",
      "Call initializer instance with the dtype argument instead of passing it to the constructor\n",
      "WARNING:tensorflow:From /home/aithe/anaconda3/envs/tf/lib/python3.7/site-packages/tensorflow_core/python/ops/resource_variable_ops.py:1630: calling BaseResourceVariable.__init__ (from tensorflow.python.ops.resource_variable_ops) with constraint is deprecated and will be removed in a future version.\n",
      "Instructions for updating:\n",
      "If using Keras pass *_constraint arguments to layers.\n",
      "WARNING:tensorflow:`period` argument is deprecated. Please use `save_freq` to specify the frequency in number of samples seen.\n"
     ]
    }
   ],
   "source": [
    "model=nn.load_model(\"transformer_model_weights.h5\")"
   ]
  },
  {
   "cell_type": "code",
   "execution_count": 16,
   "metadata": {},
   "outputs": [],
   "source": [
    "result=model.predict(padded_tokens)"
   ]
  },
  {
   "cell_type": "code",
   "execution_count": 23,
   "metadata": {},
   "outputs": [
    {
     "name": "stdout",
     "output_type": "stream",
     "text": [
      "Model: \"model\"\n",
      "__________________________________________________________________________________________________\n",
      "Layer (type)                    Output Shape         Param #     Connected to                     \n",
      "==================================================================================================\n",
      "input_1 (InputLayer)            [(None, 75)]         0                                            \n",
      "__________________________________________________________________________________________________\n",
      "token_and_position_embedding (T (None, 75, 120)      4809000     input_1[0][0]                    \n",
      "__________________________________________________________________________________________________\n",
      "transformer_block (TransformerB (None, 75, 120)      66392       token_and_position_embedding[0][0\n",
      "__________________________________________________________________________________________________\n",
      "conv1d (Conv1D)                 (None, 69, 128)      107648      transformer_block[0][0]          \n",
      "__________________________________________________________________________________________________\n",
      "batch_normalization (BatchNorma (None, 69, 128)      512         conv1d[0][0]                     \n",
      "__________________________________________________________________________________________________\n",
      "leaky_re_lu (LeakyReLU)         (None, 69, 128)      0           batch_normalization[0][0]        \n",
      "__________________________________________________________________________________________________\n",
      "dropout_2 (Dropout)             (None, 69, 128)      0           leaky_re_lu[0][0]                \n",
      "__________________________________________________________________________________________________\n",
      "global_average_pooling1d (Globa (None, 128)          0           dropout_2[0][0]                  \n",
      "__________________________________________________________________________________________________\n",
      "global_max_pooling1d (GlobalMax (None, 128)          0           dropout_2[0][0]                  \n",
      "__________________________________________________________________________________________________\n",
      "concatenate (Concatenate)       (None, 256)          0           global_average_pooling1d[0][0]   \n",
      "                                                                 global_max_pooling1d[0][0]       \n",
      "__________________________________________________________________________________________________\n",
      "dense_6 (Dense)                 (None, 256)          65792       concatenate[0][0]                \n",
      "__________________________________________________________________________________________________\n",
      "leaky_re_lu_1 (LeakyReLU)       (None, 256)          0           dense_6[0][0]                    \n",
      "__________________________________________________________________________________________________\n",
      "dropout_3 (Dropout)             (None, 256)          0           leaky_re_lu_1[0][0]              \n",
      "__________________________________________________________________________________________________\n",
      "dense_7 (Dense)                 (None, 128)          32896       dropout_3[0][0]                  \n",
      "__________________________________________________________________________________________________\n",
      "leaky_re_lu_2 (LeakyReLU)       (None, 128)          0           dense_7[0][0]                    \n",
      "__________________________________________________________________________________________________\n",
      "new_cat (Dense)                 (None, 3827)         493683      leaky_re_lu_2[0][0]              \n",
      "==================================================================================================\n",
      "Total params: 5,575,923\n",
      "Trainable params: 5,575,667\n",
      "Non-trainable params: 256\n",
      "__________________________________________________________________________________________________\n"
     ]
    }
   ],
   "source": [
    "model.summary()"
   ]
  },
  {
   "cell_type": "markdown",
   "metadata": {},
   "source": [
    "# Check Result"
   ]
  },
  {
   "cell_type": "code",
   "execution_count": 17,
   "metadata": {},
   "outputs": [],
   "source": [
    "import produceOutput"
   ]
  },
  {
   "cell_type": "code",
   "execution_count": 18,
   "metadata": {},
   "outputs": [],
   "source": [
    "po=produceOutput.produce_output()"
   ]
  },
  {
   "cell_type": "code",
   "execution_count": 19,
   "metadata": {},
   "outputs": [],
   "source": [
    "total_result=po.convert_to_category(data,result)\n"
   ]
  },
  {
   "cell_type": "code",
   "execution_count": 20,
   "metadata": {},
   "outputs": [
    {
     "data": {
      "text/html": [
       "<div>\n",
       "<style scoped>\n",
       "    .dataframe tbody tr th:only-of-type {\n",
       "        vertical-align: middle;\n",
       "    }\n",
       "\n",
       "    .dataframe tbody tr th {\n",
       "        vertical-align: top;\n",
       "    }\n",
       "\n",
       "    .dataframe thead th {\n",
       "        text-align: right;\n",
       "    }\n",
       "</style>\n",
       "<table border=\"1\" class=\"dataframe\">\n",
       "  <thead>\n",
       "    <tr style=\"text-align: right;\">\n",
       "      <th></th>\n",
       "      <th>상품명</th>\n",
       "      <th>카테고리넘버</th>\n",
       "      <th>대분류</th>\n",
       "      <th>중분류</th>\n",
       "      <th>소분류</th>\n",
       "    </tr>\n",
       "  </thead>\n",
       "  <tbody>\n",
       "    <tr>\n",
       "      <th>0</th>\n",
       "      <td>남여공용 스판 테이퍼드핏 밴딩팬츠 t 205 pt 260 p</td>\n",
       "      <td>2198</td>\n",
       "      <td>남성의류</td>\n",
       "      <td>바지</td>\n",
       "      <td></td>\n",
       "    </tr>\n",
       "    <tr>\n",
       "      <th>1</th>\n",
       "      <td>미젤 앞트임 스커트</td>\n",
       "      <td>2254</td>\n",
       "      <td>여성의류</td>\n",
       "      <td>스커트</td>\n",
       "      <td></td>\n",
       "    </tr>\n",
       "    <tr>\n",
       "      <th>2</th>\n",
       "      <td>듀엘 여성용 캐쥬얼 슈즈 블랙 dus 17 n 63</td>\n",
       "      <td>126</td>\n",
       "      <td>스포츠의류/운동화/잡화</td>\n",
       "      <td>운동화</td>\n",
       "      <td>캐주얼운동화</td>\n",
       "    </tr>\n",
       "    <tr>\n",
       "      <th>3</th>\n",
       "      <td>두트임연청진 vb 05 dlq 315 t</td>\n",
       "      <td>2213</td>\n",
       "      <td>남성의류</td>\n",
       "      <td>티셔츠</td>\n",
       "      <td></td>\n",
       "    </tr>\n",
       "    <tr>\n",
       "      <th>4</th>\n",
       "      <td>바나나팜스 특별기획 주니어 여아샌달 썸머 샌들 240 mm cp</td>\n",
       "      <td>991</td>\n",
       "      <td>유아동의류/신발/가방</td>\n",
       "      <td>신발</td>\n",
       "      <td>샌들</td>\n",
       "    </tr>\n",
       "    <tr>\n",
       "      <th>...</th>\n",
       "      <td>...</td>\n",
       "      <td>...</td>\n",
       "      <td>...</td>\n",
       "      <td>...</td>\n",
       "      <td>...</td>\n",
       "    </tr>\n",
       "    <tr>\n",
       "      <th>9995</th>\n",
       "      <td>갤럭시 a 9 프로 스트랩 방탄 투명젤리케이스 sm g 887 n</td>\n",
       "      <td>31</td>\n",
       "      <td>휴대폰/액세서리</td>\n",
       "      <td>휴대폰액세서리</td>\n",
       "      <td>휴대폰케이스</td>\n",
       "    </tr>\n",
       "    <tr>\n",
       "      <th>9996</th>\n",
       "      <td>in 베이직끈 5 부바지 2223 h 004</td>\n",
       "      <td>132</td>\n",
       "      <td>스포츠의류/운동화/잡화</td>\n",
       "      <td>의류/트레이닝복</td>\n",
       "      <td>트레이닝 하의</td>\n",
       "    </tr>\n",
       "    <tr>\n",
       "      <th>9997</th>\n",
       "      <td>킹월드 스카치 쭉티</td>\n",
       "      <td>2349</td>\n",
       "      <td>가공식품/과자/초콜릿</td>\n",
       "      <td>제과류</td>\n",
       "      <td></td>\n",
       "    </tr>\n",
       "    <tr>\n",
       "      <th>9998</th>\n",
       "      <td>제과쇼케이스 마카롱쇼케이스 사각 뒷문 화이트 앞 1 단 뒤 2 단 150</td>\n",
       "      <td>509</td>\n",
       "      <td>주방가전/냉장고/전기밥솥</td>\n",
       "      <td>업소용 주방가전</td>\n",
       "      <td>업소용 냉장고</td>\n",
       "    </tr>\n",
       "    <tr>\n",
       "      <th>9999</th>\n",
       "      <td>내구성이 강하고 착화감이 좋은 여성 스니커즈 4118 sf 351</td>\n",
       "      <td>126</td>\n",
       "      <td>스포츠의류/운동화/잡화</td>\n",
       "      <td>운동화</td>\n",
       "      <td>캐주얼운동화</td>\n",
       "    </tr>\n",
       "  </tbody>\n",
       "</table>\n",
       "<p>10000 rows × 5 columns</p>\n",
       "</div>"
      ],
      "text/plain": [
       "                                           상품명  카테고리넘버            대분류  \\\n",
       "0            남여공용 스판 테이퍼드핏 밴딩팬츠 t 205 pt 260 p    2198           남성의류   \n",
       "1                                   미젤 앞트임 스커트    2254           여성의류   \n",
       "2                 듀엘 여성용 캐쥬얼 슈즈 블랙 dus 17 n 63     126   스포츠의류/운동화/잡화   \n",
       "3                       두트임연청진 vb 05 dlq 315 t    2213           남성의류   \n",
       "4          바나나팜스 특별기획 주니어 여아샌달 썸머 샌들 240 mm cp     991    유아동의류/신발/가방   \n",
       "...                                        ...     ...            ...   \n",
       "9995      갤럭시 a 9 프로 스트랩 방탄 투명젤리케이스 sm g 887 n      31       휴대폰/액세서리   \n",
       "9996                  in 베이직끈 5 부바지 2223 h 004     132   스포츠의류/운동화/잡화   \n",
       "9997                                킹월드 스카치 쭉티    2349    가공식품/과자/초콜릿   \n",
       "9998  제과쇼케이스 마카롱쇼케이스 사각 뒷문 화이트 앞 1 단 뒤 2 단 150     509  주방가전/냉장고/전기밥솥   \n",
       "9999      내구성이 강하고 착화감이 좋은 여성 스니커즈 4118 sf 351     126   스포츠의류/운동화/잡화   \n",
       "\n",
       "           중분류      소분류  \n",
       "0           바지           \n",
       "1          스커트           \n",
       "2          운동화   캐주얼운동화  \n",
       "3          티셔츠           \n",
       "4           신발       샌들  \n",
       "...        ...      ...  \n",
       "9995   휴대폰액세서리   휴대폰케이스  \n",
       "9996  의류/트레이닝복  트레이닝 하의  \n",
       "9997       제과류           \n",
       "9998  업소용 주방가전  업소용 냉장고  \n",
       "9999       운동화   캐주얼운동화  \n",
       "\n",
       "[10000 rows x 5 columns]"
      ]
     },
     "execution_count": 20,
     "metadata": {},
     "output_type": "execute_result"
    }
   ],
   "source": [
    "total_result"
   ]
  }
 ],
 "metadata": {
  "kernelspec": {
   "display_name": "Python 3",
   "language": "python",
   "name": "python3"
  },
  "language_info": {
   "codemirror_mode": {
    "name": "ipython",
    "version": 3
   },
   "file_extension": ".py",
   "mimetype": "text/x-python",
   "name": "python",
   "nbconvert_exporter": "python",
   "pygments_lexer": "ipython3",
   "version": "3.8.3"
  }
 },
 "nbformat": 4,
 "nbformat_minor": 4
}
